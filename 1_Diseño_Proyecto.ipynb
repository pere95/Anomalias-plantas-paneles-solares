{
 "cells": [
  {
   "cell_type": "markdown",
   "id": "646d95d4-95a3-4629-b15f-d2f74dd39ca3",
   "metadata": {},
   "source": [
    "# 1. Introdución"
   ]
  },
  {
   "cell_type": "markdown",
   "id": "b01aba68-3d6d-4c68-930e-bb0688d67316",
   "metadata": {},
   "source": [
    "Este caso es para una compañía de generación de energía solar fotovoltaica.\n",
    "\n",
    "Han detectado comportamientos anómalos en 2 de las plantas y la subcontrata de mantenimiento no es capaz de identificar el motivo.\n",
    "\n",
    "Antes de desplazar a un equipo de ingenieros nos piden al equipo de data science que analicemos los datos de los sensores y medidores para ver si podemos detectar el problema.\n"
   ]
  },
  {
   "cell_type": "markdown",
   "id": "7b0ab832-8c6c-448f-a335-5a6a1e30edeb",
   "metadata": {},
   "source": [
    "# 2. Objetivo"
   ]
  },
  {
   "cell_type": "markdown",
   "id": "57a6d4ef-6937-4a06-b2d1-69992d2d37e5",
   "metadata": {},
   "source": [
    "Analizar los datos disponibles para intentar intuir donde pueden estar los problemas y si es necesario desplazar o no a un equipo de ingenieros a las plantas."
   ]
  },
  {
   "cell_type": "markdown",
   "id": "46af3672-838b-4920-8e4a-d2b2f92caf7a",
   "metadata": {},
   "source": [
    "# 3. Funcionamiento plantas"
   ]
  },
  {
   "cell_type": "code",
   "execution_count": 3,
   "id": "7f7d0b71-8ce5-4171-b7f5-1a24c1afe152",
   "metadata": {},
   "outputs": [
    {
     "data": {
      "image/png": "[encoded data removed]",
      "text/plain": [
       "<IPython.core.display.Image object>"
      ]
     },
     "execution_count": 3,
     "metadata": {},
     "output_type": "execute_result"
    }
   ],
   "source": [
    "from IPython import display\n",
    "display.Image(\"../cas2/How_Solar_Power_Works.png\")"
   ]
  },
  {
   "cell_type": "markdown",
   "id": "c01d896a-cba8-479c-a2f6-28e06b427181",
   "metadata": {},
   "source": [
    "La luz del sol llega a los paneles, estos generan corriente continua (DC) pasan por el inverter y se transforma a corriente alterna, generando datos los cuales son registrados por los sensores. \n",
    "\n",
    "1. **Irradiación**: a mayor irradiación mayor DC generada. Pero no es monotónica, a partir de ciertos valores mayor temperatura puede mermar la capacidad de generación\n",
    "2. **Estado de los paneles**: deben estar limpios y con un correcto funcionamiento para generar la mayor energía DC posible\n",
    "3. **Eficiencia de los inverters**: siempre hay una pérdida en la transformación de DC a AC, pero debe ser la mínima posible. También deben estar en correcto estado y funcionamiento.\n",
    "4. **Medidores y sensores**: si se estropean y no miden bien perdemos la trazabilidad y la posibilidad de detectar fallos"
   ]
  },
  {
   "cell_type": "markdown",
   "id": "dde5e14b-5e2a-41e7-822a-62c3d1478691",
   "metadata": {},
   "source": [
    "# 4. KPIs"
   ]
  },
  {
   "cell_type": "markdown",
   "id": "ba801452-66a1-45b7-905f-c1bc7d8758f9",
   "metadata": {},
   "source": [
    "* Irradiación: mide la energía solar que llega\n",
    "* Temperatura ambiente y del módulo: medida por los sensores de la planta en grados Celsius\n",
    "* Potencia DC: medida los kw de corriente contínua\n",
    "* Potencia AC: medida los kw de corriente alterna\n",
    "* Eficiencia del inverter (lo crearemos nosotros): mide la capacidad de transformación de DC a AC. Se calcula como AC / DC * 100"
   ]
  },
  {
   "cell_type": "markdown",
   "id": "6a3b9c1a-f664-40b8-96e6-661bf7cd4a19",
   "metadata": {},
   "source": [
    "# 5. Entidades"
   ]
  },
  {
   "cell_type": "markdown",
   "id": "9498d8fc-ef7f-4fe0-9ab3-c2a7a410d27a",
   "metadata": {},
   "source": [
    "En este caso las entidades que tenemos son:\n",
    "    \n",
    "* Ventanas de 15 minutos durante un período de 34 días\n",
    "* Plantas: 2\n",
    "* Inverters: varios por planta\n",
    "* Sólo un sensor de irradiación por planta\n",
    "* Sólo un sensor de temperatura ambiente por planta\n",
    "* Sólo un sensor de temperatura del módulo por planta\n",
    "\n",
    "Esto condiciona que podremos saber por ejemplo si un inverter de una planta tiene menor rendimiento del esperado, pero no sabremos qué array, panel o módulo lo puede estar causando."
   ]
  },
  {
   "cell_type": "code",
   "execution_count": null,
   "id": "16794b3c-cb94-45d1-ae8c-4d14c94de4cd",
   "metadata": {},
   "outputs": [],
   "source": []
  }
 ],
 "metadata": {
  "kernelspec": {
   "display_name": "Python 3 (ipykernel)",
   "language": "python",
   "name": "python3"
  },
  "language_info": {
   "codemirror_mode": {
    "name": "ipython",
    "version": 3
   },
   "file_extension": ".py",
   "mimetype": "text/x-python",
   "name": "python",
   "nbconvert_exporter": "python",
   "pygments_lexer": "ipython3",
   "version": "3.12.2"
  },
  "widgets": {
   "application/vnd.jupyter.widget-state+json": {
    "state": {},
    "version_major": 2,
    "version_minor": 0
   }
  }
 },
 "nbformat": 4,
 "nbformat_minor": 5
}
